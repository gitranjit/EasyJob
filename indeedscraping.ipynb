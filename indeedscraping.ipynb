{
 "cells": [
  {
   "cell_type": "code",
   "execution_count": 6,
   "id": "d1f97ac1",
   "metadata": {},
   "outputs": [
    {
     "ename": "IndexError",
     "evalue": "list index out of range",
     "output_type": "error",
     "traceback": [
      "\u001b[1;31m---------------------------------------------------------------------------\u001b[0m",
      "\u001b[1;31mIndexError\u001b[0m                                Traceback (most recent call last)",
      "\u001b[1;32m<ipython-input-6-71087b17ad35>\u001b[0m in \u001b[0;36m<module>\u001b[1;34m\u001b[0m\n\u001b[0;32m     31\u001b[0m \u001b[1;31m# Write the items to the CSV file\u001b[0m\u001b[1;33m\u001b[0m\u001b[1;33m\u001b[0m\u001b[1;33m\u001b[0m\u001b[0m\n\u001b[0;32m     32\u001b[0m \u001b[1;32mwith\u001b[0m \u001b[0mopen\u001b[0m\u001b[1;33m(\u001b[0m\u001b[0mcsv_file_path\u001b[0m\u001b[1;33m,\u001b[0m \u001b[0mmode\u001b[0m\u001b[1;33m=\u001b[0m\u001b[1;34m'w'\u001b[0m\u001b[1;33m,\u001b[0m \u001b[0mnewline\u001b[0m\u001b[1;33m=\u001b[0m\u001b[1;34m''\u001b[0m\u001b[1;33m,\u001b[0m \u001b[0mencoding\u001b[0m\u001b[1;33m=\u001b[0m\u001b[1;34m'utf-8'\u001b[0m\u001b[1;33m)\u001b[0m \u001b[1;32mas\u001b[0m \u001b[0mfile\u001b[0m\u001b[1;33m:\u001b[0m\u001b[1;33m\u001b[0m\u001b[1;33m\u001b[0m\u001b[0m\n\u001b[1;32m---> 33\u001b[1;33m     \u001b[0mwriter\u001b[0m \u001b[1;33m=\u001b[0m \u001b[0mcsv\u001b[0m\u001b[1;33m.\u001b[0m\u001b[0mDictWriter\u001b[0m\u001b[1;33m(\u001b[0m\u001b[0mfile\u001b[0m\u001b[1;33m,\u001b[0m \u001b[0mfieldnames\u001b[0m\u001b[1;33m=\u001b[0m\u001b[0mitems\u001b[0m\u001b[1;33m[\u001b[0m\u001b[1;36m0\u001b[0m\u001b[1;33m]\u001b[0m\u001b[1;33m.\u001b[0m\u001b[0mkeys\u001b[0m\u001b[1;33m(\u001b[0m\u001b[1;33m)\u001b[0m\u001b[1;33m)\u001b[0m\u001b[1;33m\u001b[0m\u001b[1;33m\u001b[0m\u001b[0m\n\u001b[0m\u001b[0;32m     34\u001b[0m     \u001b[0mwriter\u001b[0m\u001b[1;33m.\u001b[0m\u001b[0mwriteheader\u001b[0m\u001b[1;33m(\u001b[0m\u001b[1;33m)\u001b[0m\u001b[1;33m\u001b[0m\u001b[1;33m\u001b[0m\u001b[0m\n\u001b[0;32m     35\u001b[0m     \u001b[1;32mfor\u001b[0m \u001b[0mitem\u001b[0m \u001b[1;32min\u001b[0m \u001b[0mitems\u001b[0m\u001b[1;33m:\u001b[0m\u001b[1;33m\u001b[0m\u001b[1;33m\u001b[0m\u001b[0m\n",
      "\u001b[1;31mIndexError\u001b[0m: list index out of range"
     ]
    }
   ],
   "source": [
    "import csv\n",
    "from apify_client import ApifyClient\n",
    "\n",
    "# Initialize the ApifyClient with your API token\n",
    "client = ApifyClient(\"apify_api_rLLkZMQvb9wKRwZvraWpMdw4k3OmKs0BSEZz\")\n",
    "\n",
    "# Prepare the Actor input\n",
    "run_input = {\n",
    "    \"position\": \"\",\n",
    "    \"country\": \"IN\",\n",
    "    \"location\": \"\",\n",
    "    \"maxItems\": 1000,\n",
    "    \"parseCompanyDetails\": False,\n",
    "    \"saveOnlyUniqueItems\": True,\n",
    "    \"followApplyRedirects\": True,\n",
    "    \"maxConcurrency\": 5,\n",
    "}\n",
    "\n",
    "\n",
    "# Run the Actor and wait for it to finish\n",
    "run = client.actor(\"hMvNSpz3JnHgl5jkh\").call(run_input=run_input)\n",
    "\n",
    "# Fetch and print Actor results from the run's dataset (if there are any)\n",
    "items = []\n",
    "for item in client.dataset(run[\"defaultDatasetId\"]).iterate_items():\n",
    "    items.append(item)\n",
    "\n",
    "# Define the CSV file path\n",
    "csv_file_path = \"new_data.csv\"\n",
    "\n",
    "# Write the items to the CSV file\n",
    "with open(csv_file_path, mode='w', newline='', encoding='utf-8') as file:\n",
    "    writer = csv.DictWriter(file, fieldnames=items[0].keys())\n",
    "    writer.writeheader()\n",
    "    for item in items:\n",
    "        writer.writerow(item)\n"
   ]
  },
  {
   "cell_type": "code",
   "execution_count": 15,
   "id": "f033acb5",
   "metadata": {},
   "outputs": [
    {
     "name": "stdout",
     "output_type": "stream",
     "text": [
      "No items found to write to CSV.\n"
     ]
    }
   ],
   "source": [
    "import csv\n",
    "from apify_client import ApifyClient\n",
    "\n",
    "# Initialize the ApifyClient with your API token\n",
    "client = ApifyClient(\"apify_api_q0Fp1mtdqheFhDOpVa8pTlUhfqyb422ieUtY\")\n",
    "\n",
    "# Prepare the Actor input\n",
    "# data analyst, androi developer , web development\n",
    "run_input = {\n",
    "    \"position\": \"quality assuarnace\",\n",
    "    \"country\": \"IN\",\n",
    "    \"location\": \"pune\",\n",
    "    \"maxItems\": 100,\n",
    "    \"parseCompanyDetails\": False,\n",
    "    \"saveOnlyUniqueItems\": True,\n",
    "    \"followApplyRedirects\": True,\n",
    "    \"maxConcurrency\": 5,\n",
    "}\n",
    "\n",
    "\n",
    "# Run the Actor and wait for it to finish\n",
    "run = client.actor(\"hMvNSpz3JnHgl5jkh\").call(run_input=run_input)\n",
    "\n",
    "# Fetch and print Actor results from the run's dataset (if there are any)\n",
    "items = []\n",
    "for item in client.dataset(run[\"defaultDatasetId\"]).iterate_items():\n",
    "    items.append(item)\n",
    "\n",
    "# Define the CSV file path\n",
    "csv_file_path = \"data3.csv\"\n",
    "\n",
    "# Check if there are items before writing to the CSV file\n",
    "if items:\n",
    "    # Write the items to the CSV file\n",
    "    with open(csv_file_path, mode='w', newline='', encoding='utf-8') as file:\n",
    "        writer = csv.DictWriter(file, fieldnames=items[0].keys())\n",
    "        writer.writeheader()\n",
    "        for item in items:\n",
    "            writer.writerow(item)\n",
    "else:\n",
    "    print(\"No items found to write to CSV.\")\n"
   ]
  },
  {
   "cell_type": "code",
   "execution_count": null,
   "id": "8dd9b7e7",
   "metadata": {},
   "outputs": [],
   "source": []
  }
 ],
 "metadata": {
  "kernelspec": {
   "display_name": "Python 3",
   "language": "python",
   "name": "python3"
  },
  "language_info": {
   "codemirror_mode": {
    "name": "ipython",
    "version": 3
   },
   "file_extension": ".py",
   "mimetype": "text/x-python",
   "name": "python",
   "nbconvert_exporter": "python",
   "pygments_lexer": "ipython3",
   "version": "3.8.8"
  }
 },
 "nbformat": 4,
 "nbformat_minor": 5
}
